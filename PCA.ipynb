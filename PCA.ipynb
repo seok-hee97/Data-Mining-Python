{
 "cells": [
  {
   "cell_type": "markdown",
   "metadata": {},
   "source": [
    "# PCA: PRINCIPAL COMPONENT ANALYSIS\n",
    "\n",
    "**File:** PCA.ipynb\n",
    "\n",
    "**Course:** Data Science Foundations: Data Mining in Python"
   ]
  },
  {
   "cell_type": "markdown",
   "metadata": {},
   "source": [
    "# IMPORT LIBRARIES"
   ]
  },
  {
   "cell_type": "code",
   "execution_count": null,
   "metadata": {},
   "outputs": [],
   "source": [
    "import pandas as pd                    # For dataframes\n",
    "import matplotlib.pyplot as plt        # For plotting data\n",
    "import seaborn as sns                  # For plotting data\n",
    "from sklearn.decomposition import PCA  # For PCA"
   ]
  },
  {
   "cell_type": "markdown",
   "metadata": {},
   "source": [
    "# LOAD AND PREPARE DATA\n",
    "\n",
    "Load the training data `trn` and testing data `tst` from the CSV files in the data directory.\n",
    "Separate the data matrix from the class variable."
   ]
  },
  {
   "cell_type": "code",
   "execution_count": null,
   "metadata": {},
   "outputs": [],
   "source": [
    "# Imports the training data\n",
    "trn = pd.read_csv('data/optdigits_trn.csv')\n",
    "\n",
    "# Separates the attributes P0-P63 into X_trn\n",
    "X_trn = trn.filter(regex='\\d')\n",
    "\n",
    "# Separates the class variable into y_trn\n",
    "y_trn = trn.y\n",
    "\n",
    "# Imports the testing data\n",
    "tst = pd.read_csv('data/optdigits_tst.csv')\n",
    "\n",
    "# Separates the attributes P0-P63 into X_tst\n",
    "X_tst = tst.filter(regex='\\d')\n",
    "\n",
    "# Separates the class variable into y_tst\n",
    "y_tst = tst.y"
   ]
  },
  {
   "cell_type": "code",
   "execution_count": null,
   "metadata": {},
   "outputs": [],
   "source": [
    "# Shows the first few rows of the training data\n",
    "trn.head()"
   ]
  },
  {
   "cell_type": "markdown",
   "metadata": {},
   "source": [
    "# PRINCIPAL COMPONENT ANALYSIS: TRAIN MODEL\n",
    "\n",
    "In the training phase, we'll do the following:\n",
    "\n",
    "1. Set up the PCA object\n",
    "1. Project the training data onto the principal directions found by PCA\n",
    "1. Plot the ratio of variances explained by each direction\n",
    "1. Create a scatter plot of projected training data along the first two principal directions\n",
    "1. Get the average log-likelihood score of all samples"
   ]
  },
  {
   "cell_type": "code",
   "execution_count": null,
   "metadata": {},
   "outputs": [],
   "source": [
    "# Sets up the PCA object\n",
    "pca = PCA()\n",
    "\n",
    "# Transforms the training data ('tf' = 'transformed')\n",
    "trn_tf = pca.fit_transform(X_trn)\n",
    "\n",
    "# Plot the variance explained by each component\n",
    "plt.plot(pca.explained_variance_ratio_)"
   ]
  },
  {
   "cell_type": "code",
   "execution_count": null,
   "metadata": {},
   "outputs": [],
   "source": [
    "# Plots the projected data set on the first two principal components and colors by class\n",
    "sns.scatterplot(\n",
    "    x=trn_tf[:, 0], \n",
    "    y=trn_tf[:, 1],\n",
    "    style=y_trn,\n",
    "    hue=y_trn,\n",
    "    palette=['red', 'green', 'blue'])"
   ]
  },
  {
   "cell_type": "code",
   "execution_count": null,
   "metadata": {},
   "outputs": [],
   "source": [
    "# Gets the average log likelihood score of training data (with two decimal places)\n",
    "print(\"%.2f\" % pca.score(X_trn))"
   ]
  },
  {
   "cell_type": "markdown",
   "metadata": {},
   "source": [
    "# TEST MODEL\n",
    "\n",
    "This phase takes the PCA model developed above and does the following:\n",
    "\n",
    "1. Transforms the test data on the learned PCA directions\n",
    "1. Creates a scatter plot along the first two principal directions\n",
    "1. Finds the average log likelihood score of all test points\n"
   ]
  },
  {
   "cell_type": "code",
   "execution_count": null,
   "metadata": {},
   "outputs": [],
   "source": [
    "# Transforms the test data\n",
    "tst_tf = pca.transform(X_tst)\n",
    "\n",
    "# Make a scatter plot along the first two principal directions\n",
    "# You can see how well the digits are separated on the test set\n",
    "sns.scatterplot(\n",
    "    x=tst_tf[:, 0],\n",
    "    y=tst_tf[:, 1],\n",
    "    style=y_tst,\n",
    "    hue=y_tst,\n",
    "    palette=['red', 'green', 'blue'])"
   ]
  },
  {
   "cell_type": "code",
   "execution_count": null,
   "metadata": {},
   "outputs": [],
   "source": [
    "# Gets the average log likelihood score of testing data to compare with the\n",
    "# training data (again with two decimal places)\n",
    "print(\"%.2f\" % pca.score(X_tst))"
   ]
  },
  {
   "cell_type": "markdown",
   "metadata": {},
   "source": [
    "# CLEAN UP\n",
    "\n",
    "- If desired, clear the results with Cell > All Output > Clear. \n",
    "- Save your work by selecting File > Save and Checkpoint.\n",
    "- Shut down the Python kernel and close the file by selecting File > Close and Halt."
   ]
  }
 ],
 "metadata": {
  "kernelspec": {
   "display_name": "Python 3",
   "language": "python",
   "name": "python3"
  },
  "language_info": {
   "codemirror_mode": {
    "name": "ipython",
    "version": 3
   },
   "file_extension": ".py",
   "mimetype": "text/x-python",
   "name": "python",
   "nbconvert_exporter": "python",
   "pygments_lexer": "ipython3",
   "version": "3.7.9"
  }
 },
 "nbformat": 4,
 "nbformat_minor": 4
}
